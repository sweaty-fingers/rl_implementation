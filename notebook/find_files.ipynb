{
 "cells": [
  {
   "cell_type": "code",
   "execution_count": null,
   "metadata": {},
   "outputs": [],
   "source": [
    "import os\n",
    "import glob\n",
    "from src.utilities.util import find_files"
   ]
  },
  {
   "cell_type": "code",
   "execution_count": null,
   "metadata": {},
   "outputs": [],
   "source": [
    "def find_dirs(base_dir, dir_pattern, file_pattern, extension):\n",
    "        \"\"\"\n",
    "        base_dir 아래에 있는 디렉터리들 중 pattern을 만족하는 디렉터리들의 경로 반환\n",
    "        \"\"\"\n",
    "        \n",
    "        dir_list = []\n",
    "        for root, dirs, files in os.walk(base_dir):\n",
    "            if dir_pattern in root:\n",
    "                for file in files:\n",
    "                    if file_pattern in os.path.basename(file) and file.endswith(extension):\n",
    "                        dir_list.append(root)\n",
    "                        break\n",
    "        return dir_list    "
   ]
  },
  {
   "cell_type": "code",
   "execution_count": null,
   "metadata": {},
   "outputs": [],
   "source": [
    "base_dir = \"/mnt/data/dataset/lab/processed/nc_docker/12po_v3_202306101_240904/\"\n",
    "dir_pattern = \"nc_train\"\n",
    "file_pattern = \"log_worker\"\n",
    "extension = \".pkl\"\n",
    "dirs = find_dirs(base_dir=base_dir, dir_pattern=dir_pattern, file_pattern=file_pattern, extension=extension)"
   ]
  },
  {
   "cell_type": "code",
   "execution_count": null,
   "metadata": {},
   "outputs": [],
   "source": [
    "import pandas as pd\n",
    "\n",
    "def load_transitions_from_files(base_dir, dir_pattern, file_pattern, file_extension, buffer_size):\n",
    "    # 특정 문자열과 확장자를 만족하는 파일 경로 리스트\n",
    "    dirs = find_dirs(base_dir=base_dir, dir_pattern=dir_pattern, file_pattern=file_pattern, extension=file_extension)\n",
    "    n_transitions_per_datagroup = buffer_size // len(dirs)\n",
    "    random.shuffle(dirs)\n",
    "    \n",
    "    df = pd.DataFrame()\n",
    "    for diretory in dirs[:2]:\n",
    "        files = find_files(base_dir=base_dir, pattern=file_pattern, file_extension=file_extension)\n",
    "        n_transitions_per_file = n_transitions_per_datagroup // len(files)\n",
    "        random.shuffle(files)\n",
    "        for file in files[:2]:\n",
    "            df_tmp = pd.read_pickle(file).sample(n=n_transitions_per_file)\n",
    "            df = pd.concat((df_tmp, df), axis=0)\n",
    "            \n",
    "    df.reset_index(drop=True)\n",
    "    return df"
   ]
  },
  {
   "cell_type": "code",
   "execution_count": null,
   "metadata": {},
   "outputs": [],
   "source": [
    "df = load_transitions_from_files(base_dir=dirs[0], dir_pattern=dir_pattern, file_pattern=file_pattern, file_extension=extension, buffer_size=buffer_size)"
   ]
  }
 ],
 "metadata": {
  "kernelspec": {
   "display_name": "rl-implement-xS3fZVNL-py3.10",
   "language": "python",
   "name": "python3"
  },
  "language_info": {
   "name": "python",
   "version": "3.10.12"
  }
 },
 "nbformat": 4,
 "nbformat_minor": 2
}
