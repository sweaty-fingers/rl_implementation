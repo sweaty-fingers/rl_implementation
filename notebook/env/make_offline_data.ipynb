{
 "cells": [
  {
   "cell_type": "code",
   "execution_count": 1,
   "metadata": {},
   "outputs": [],
   "source": [
    "%load_ext autoreload\n",
    "%autoreload 2"
   ]
  },
  {
   "cell_type": "code",
   "execution_count": 13,
   "metadata": {},
   "outputs": [],
   "source": [
    "import sys, os\n",
    "work_dir = \"/workspace\"\n",
    "os.chdir(work_dir)\n",
    "sys.path.append(\"/workspace/src\")\n",
    "import argparse\n",
    "import gymnasium as gym\n",
    "import pandas as pd\n",
    "\n",
    "from utilities.managers import ConfigManager\n",
    "from datetime import datetime\n",
    "from src.training.setup import setup_env\n",
    "from configs.offline_training.cartpole_v1.cartpole_v1_test import CONFIG"
   ]
  },
  {
   "cell_type": "code",
   "execution_count": 14,
   "metadata": {},
   "outputs": [],
   "source": [
    "EXTENSIONS = {\n",
    "        \"csv\": [\"csv\", \".csv\"],\n",
    "        \"pkl\": [\"pkl\", \"pickle\", \".pkl\", \".pickle\"]\n",
    "    }"
   ]
  },
  {
   "cell_type": "code",
   "execution_count": 16,
   "metadata": {},
   "outputs": [],
   "source": [
    "def save_df(df: pd.DataFrame, file_path: str):\n",
    "    extension = os.path.splitext(file_path)[-1].lower()\n",
    "    if extension in EXTENSIONS[\"csv\"]:\n",
    "        df.to_csv(file_path)\n",
    "    elif extension in EXTENSIONS[\"pkl\"]:\n",
    "        df.to_pickle(file_path)"
   ]
  },
  {
   "cell_type": "code",
   "execution_count": 18,
   "metadata": {},
   "outputs": [],
   "source": [
    "args_dict = {\"env\": \"CartPole-v1\"}\n",
    "args = argparse.Namespace(**args_dict)"
   ]
  },
  {
   "cell_type": "code",
   "execution_count": 19,
   "metadata": {},
   "outputs": [],
   "source": [
    "config_path = \"configs/offline_training/cartpole_v1/cartpole_v1_test.py\"\n",
    "# config = ConfigManager(config_path=config_path).config\n",
    "config = CONFIG"
   ]
  },
  {
   "cell_type": "code",
   "execution_count": 20,
   "metadata": {},
   "outputs": [],
   "source": [
    "env = setup_env(config=config, args=args)"
   ]
  },
  {
   "cell_type": "code",
   "execution_count": 21,
   "metadata": {},
   "outputs": [],
   "source": [
    "def prepare_dataset(num_of_episode, base_save_dir, extension=\"pkl\"):\n",
    "    date_format = \"%Y_%m_%d_%H%M_%S\"\n",
    "    dirname = datetime.now().strftime(date_format)\n",
    "    save_dir = os.path.join(base_save_dir, dirname)\n",
    "    os.makedirs(save_dir)\n",
    "\n",
    "    \n",
    "    df = pd.DataFrame()\n",
    "    n_episode = 0\n",
    "    observation, info = env.reset()\n",
    "    while n_episode < num_of_episode:\n",
    "        action = env.action_space.sample()  # agent policy that uses the observation and info\n",
    "        next_observation, reward, terminated, truncated, info = env.step(action)\n",
    "        done = terminated | truncated\n",
    "        transition = {\"state\": observation, \"action\": action, \"next_state\": next_observation, \"reward\": reward, \"done\": done}\n",
    "        if df.empty:\n",
    "            df = pd.DataFrame(transition)\n",
    "        else:\n",
    "            df = pd.concat((df, pd.DataFrame(transition)), axis=0)\n",
    "\n",
    "        if done:\n",
    "            observation, info = env.reset()\n",
    "            save_df(df, os.path.join(save_dir, f\"{n_episode}.{extension}\"))\n",
    "            df = pd.DataFrame()\n",
    "            n_episode += 1\n",
    "        else:\n",
    "            observation = next_observation\n",
    "\n",
    "    env.close()\n"
   ]
  },
  {
   "cell_type": "code",
   "execution_count": 24,
   "metadata": {},
   "outputs": [],
   "source": [
    "prepare_dataset(10000, config[\"dirs\"][\"processed_dataset\"][\"csv\"], extension=\"csv\")"
   ]
  }
 ],
 "metadata": {
  "kernelspec": {
   "display_name": "rl-implement-xS3fZVNL-py3.10",
   "language": "python",
   "name": "python3"
  },
  "language_info": {
   "codemirror_mode": {
    "name": "ipython",
    "version": 3
   },
   "file_extension": ".py",
   "mimetype": "text/x-python",
   "name": "python",
   "nbconvert_exporter": "python",
   "pygments_lexer": "ipython3",
   "version": "3.10.12"
  }
 },
 "nbformat": 4,
 "nbformat_minor": 2
}
